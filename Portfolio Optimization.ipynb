{
  "nbformat": 4,
  "nbformat_minor": 0,
  "metadata": {
    "colab": {
      "provenance": []
    },
    "kernelspec": {
      "name": "python3",
      "display_name": "Python 3"
    },
    "language_info": {
      "name": "python"
    },
    "gpuClass": "standard"
  },
  "cells": [
    {
      "cell_type": "markdown",
      "source": [
        "## Modules"
      ],
      "metadata": {
        "id": "DxPbTyd0i0Fm"
      }
    },
    {
      "cell_type": "code",
      "source": [
        "# download relevant modules\n",
        "# ! pip install time\n",
        "# ! pip install numpy\n",
        "# ! pip install pandas\n",
        "# ! pip install yfinance\n",
        "# ! pip install matplotlib\n",
        "# ! pip install PyPortfolioOpt"
      ],
      "metadata": {
        "id": "qAsA_wMCcHZ8"
      },
      "execution_count": 3,
      "outputs": []
    },
    {
      "cell_type": "code",
      "execution_count": 4,
      "metadata": {
        "id": "_Xi4YjtrVoPd"
      },
      "outputs": [],
      "source": [
        "# include libraries\n",
        "import io\n",
        "import time\n",
        "import contextlib\n",
        "import numpy as np\n",
        "import pandas as pd\n",
        "import yfinance as yf\n",
        "from datetime import datetime\n",
        "import matplotlib.pyplot as plt\n",
        "\n",
        "plt.style.use('fivethirtyeight')"
      ]
    },
    {
      "cell_type": "code",
      "source": [
        "# ignore system warnings\n",
        "import warnings\n",
        "warnings.filterwarnings(\"ignore\")"
      ],
      "metadata": {
        "id": "P6vDbD8XkGHb"
      },
      "execution_count": 5,
      "outputs": []
    },
    {
      "cell_type": "markdown",
      "source": [
        "## Portfolio"
      ],
      "metadata": {
        "id": "TVk7t0EyiaId"
      }
    },
    {
      "cell_type": "code",
      "source": [
        "def snp500():\n",
        "\n",
        "  url = 'https://en.wikipedia.org/wiki/List_of_S%26P_500_companies'\n",
        "  companies = pd.read_html(url)[0][0:25]\n",
        "  return companies['Symbol'], companies['Security']"
      ],
      "metadata": {
        "id": "8Wyh0eqUh2lP"
      },
      "execution_count": 162,
      "outputs": []
    },
    {
      "cell_type": "code",
      "source": [
        "def Information():\n",
        "\n",
        "    # input stock symbols (tickers)\n",
        "    #companies = ['META', 'AMZN', 'AAPL', 'MSFT', 'GOOG', 'TSLA']\n",
        "    companies, names = snp500()\n",
        "\n",
        "    # assign weight to each stock (total weight should be one) \n",
        "    weights = np.full(len(companies), 1/len(companies)) # (companies, weight value)\n",
        "\n",
        "    # portfolio start date\n",
        "    stockStartDate = '2015-01-01' # (Y, M, D)\n",
        "\n",
        "    # portfolio end date\n",
        "    today = datetime.today().strftime('%Y-%m-%d')\n",
        "    print('Portfolio based on data from ' + stockStartDate + \" to \" + today)\n",
        "    print(\"Total companies listed on portfolio : \", len(companies))\n",
        "\n",
        "    return companies, weights, stockStartDate, today, names"
      ],
      "metadata": {
        "id": "pldJQo2hWj2p"
      },
      "execution_count": 188,
      "outputs": []
    },
    {
      "cell_type": "code",
      "source": [
        "def Dataset(companies, stockStartDate, today):\n",
        "\n",
        "    # download companies' stock prices\n",
        "    data = pd.DataFrame()\n",
        "\n",
        "    # stop any messages from yahoo finance api\n",
        "    buf = io.StringIO()\n",
        "    with contextlib.redirect_stdout(buf):\n",
        "      \n",
        "      for stock in companies:\n",
        "        data[stock] = yf.download(stock, start=stockStartDate, end=today)['Adj Close']\n",
        "\n",
        "    return data.fillna(0)"
      ],
      "metadata": {
        "id": "16relWDPY6CZ"
      },
      "execution_count": 189,
      "outputs": []
    },
    {
      "cell_type": "code",
      "source": [
        "# visualize prices\n",
        "#data.plot()"
      ],
      "metadata": {
        "id": "UJ2FMrFFauXW"
      },
      "execution_count": 190,
      "outputs": []
    },
    {
      "cell_type": "code",
      "source": [
        "def Analysis(data, weights):\n",
        "\n",
        "    # record start time\n",
        "    start = time.time()\n",
        "\n",
        "    # daily returns\n",
        "    returns = data.pct_change()\n",
        "\n",
        "    # display annual covariance matrix\n",
        "    trading_days = 252 # count of trading days this year\n",
        "    annual_covariance = returns.cov() * trading_days # diagonals (variance), others (covariance)\n",
        "\n",
        "    # calculate portfolio variance\n",
        "    portfolio_variance = np.dot(weights.T, np.dot(annual_covariance, weights)) \n",
        "\n",
        "    # calculate portfolio standard-deviation (volatility)\n",
        "    portfolio_volatility = np.sqrt(portfolio_variance)\n",
        "\n",
        "    # calculate portfolio returns\n",
        "    portfolio_returns = np.sum(returns.mean() * weights) * trading_days\n",
        "\n",
        "    # record start time\n",
        "    end = time.time()\n",
        "\n",
        "    # total time of analysis\n",
        "    total_time = end - start\n",
        "\n",
        "    # display\n",
        "    print(\"Expected Annual Portfolio Performance \\n\")\n",
        "    print(\"1.  Returns : \", str(round(portfolio_returns, 3) * 100) + '%')\n",
        "    print(\"2.  Risk(Volatility) : \", str(round(portfolio_volatility, 3) * 100) + '%')\n",
        "    print(\"3.  Variance : \", str(round(portfolio_variance, 3) * 100) + '%')\n",
        "    print(\"4.  Time Taken :\", total_time, \" seconds\")"
      ],
      "metadata": {
        "id": "yV5lmVmkdb6X"
      },
      "execution_count": 191,
      "outputs": []
    },
    {
      "cell_type": "code",
      "source": [
        "companies, weights, stockStartDate, today, names = Information()\n",
        "data = Dataset(companies, stockStartDate, today)\n",
        "Analysis(data, weights)"
      ],
      "metadata": {
        "colab": {
          "base_uri": "https://localhost:8080/"
        },
        "id": "uBLRWT6hd4kU",
        "outputId": "a0981b8b-27c9-43c7-b418-31d22664cc61"
      },
      "execution_count": 192,
      "outputs": [
        {
          "output_type": "stream",
          "name": "stdout",
          "text": [
            "Portfolio based on data from 2015-01-01 to 2023-03-11\n",
            "Total companies listed on portfolio :  25\n",
            "Expected Annual Portfolio Performance \n",
            "\n",
            "1.  Returns :  14.899999999999999%\n",
            "2.  Risk(Volatility) :  19.0%\n",
            "3.  Variance :  3.5999999999999996%\n",
            "4.  Time Taken : 0.006031990051269531  seconds\n"
          ]
        }
      ]
    },
    {
      "cell_type": "markdown",
      "source": [
        "## Optimization"
      ],
      "metadata": {
        "id": "r8j75uKsiUef"
      }
    },
    {
      "cell_type": "code",
      "source": [
        "from pypfopt import risk_models\n",
        "from pypfopt import expected_returns\n",
        "from pypfopt.efficient_frontier import EfficientFrontier\n",
        "from pypfopt.discrete_allocation import DiscreteAllocation, get_latest_prices"
      ],
      "metadata": {
        "id": "BJZTupkPjNgZ"
      },
      "execution_count": 193,
      "outputs": []
    },
    {
      "cell_type": "code",
      "source": [
        "def Optimization(data):\n",
        "\n",
        "    r = expected_returns.mean_historical_return(data)\n",
        "    v = risk_models.sample_cov(data)\n",
        "\n",
        "    EF = EfficientFrontier(r, v) # provide highest expected return with minimum level of risk\n",
        "    weights = EF.max_sharpe() # provides the best trade-off between risk and return\n",
        "    weights = EF.clean_weights() # remove any small weights that may have resulted from rounding errors\n",
        "\n",
        "    print(\"Optimized Portfolio : \", weights)\n",
        "    print(\"\\n----------Optimized Portfolio Performance----------\")\n",
        "    EF.portfolio_performance(verbose = True)\n",
        "\n",
        "    return weights"
      ],
      "metadata": {
        "id": "UaBdauQxiuqO"
      },
      "execution_count": 194,
      "outputs": []
    },
    {
      "cell_type": "code",
      "source": [
        "def Portfolio(data, weights):\n",
        "\n",
        "    investment = 10000\n",
        "    latest_prices = get_latest_prices(data) # last day price\n",
        "    DA = DiscreteAllocation(weights, latest_prices, total_portfolio_value=investment) # allocating based on percentages\n",
        "\n",
        "    allocated, remaining = DA.lp_portfolio() # allocations\n",
        "    print(\"\\n----------Your Portfolio----------\")\n",
        "    print(\"Amount Invested : \", investment)\n",
        "    print(\"Stocks Allocated To Portfolio : \", allocated)\n",
        "    print(\"Funds Remaining : $\", remaining)"
      ],
      "metadata": {
        "id": "tQa9FqkDbkWj"
      },
      "execution_count": 195,
      "outputs": []
    },
    {
      "cell_type": "code",
      "source": [
        "weights = Optimization(data)\n",
        "Portfolio(data, weights)"
      ],
      "metadata": {
        "id": "Xyhp3WJJk_oS",
        "colab": {
          "base_uri": "https://localhost:8080/"
        },
        "outputId": "2ecb26d0-75fb-4cfe-ea8a-647beb7ec9ba"
      },
      "execution_count": 196,
      "outputs": [
        {
          "output_type": "stream",
          "name": "stdout",
          "text": [
            "Optimized Portfolio :  OrderedDict([('MMM', 0.0), ('AOS', 0.0), ('ABT', 0.0), ('ABBV', 0.23073), ('ACN', 0.05896), ('ATVI', 0.22768), ('ADM', 0.0), ('ADBE', 0.1145), ('ADP', 0.05846), ('AAP', 0.0), ('AES', 0.0), ('AFL', 0.02857), ('A', 0.13167), ('APD', 0.0), ('AKAM', 0.0), ('ALK', 0.0), ('ALB', 0.06869), ('ARE', 0.0), ('ALGN', 0.05257), ('ALLE', 0.0), ('LNT', 0.01728), ('ALL', 0.0), ('GOOGL', 0.0), ('GOOG', 0.01087), ('MO', 0.0)])\n",
            "\n",
            "----------Optimized Portfolio Performance----------\n",
            "Expected annual return: 17.4%\n",
            "Annual volatility: 20.9%\n",
            "Sharpe Ratio: 0.74\n",
            "\n",
            "----------Your Portfolio----------\n",
            "Amount Invested :  10000\n",
            "Stocks Allocated To Portfolio :  {'ABBV': 15, 'ACN': 2, 'ATVI': 29, 'ADBE': 3, 'ADP': 3, 'AFL': 4, 'A': 10, 'ALB': 3, 'ALGN': 2, 'LNT': 3, 'GOOG': 1}\n",
            "Funds Remaining : $ 202.86987569155826\n"
          ]
        }
      ]
    },
    {
      "cell_type": "code",
      "source": [
        "portfolio = pd.DataFrame()\n",
        "portfolio['Name'] = names\n",
        "portfolio['Symbol'], portfolio['weightage'] = weights.keys(), weights.values()\n",
        "\n",
        "portfolio"
      ],
      "metadata": {
        "colab": {
          "base_uri": "https://localhost:8080/",
          "height": 833
        },
        "id": "iHNEOB64ILlj",
        "outputId": "f828f7d6-43d4-417b-d78b-86e5097fa2b4"
      },
      "execution_count": 197,
      "outputs": [
        {
          "output_type": "execute_result",
          "data": {
            "text/plain": [
              "                               Name Symbol  weightage\n",
              "0                                3M    MMM    0.00000\n",
              "1                       A. O. Smith    AOS    0.00000\n",
              "2                            Abbott    ABT    0.00000\n",
              "3                            AbbVie   ABBV    0.23073\n",
              "4                         Accenture    ACN    0.05896\n",
              "5               Activision Blizzard   ATVI    0.22768\n",
              "6                               ADM    ADM    0.00000\n",
              "7                        Adobe Inc.   ADBE    0.11450\n",
              "8                               ADP    ADP    0.05846\n",
              "9                Advance Auto Parts    AAP    0.00000\n",
              "10                  AES Corporation    AES    0.00000\n",
              "11                            Aflac    AFL    0.02857\n",
              "12             Agilent Technologies      A    0.13167\n",
              "13       Air Products and Chemicals    APD    0.00000\n",
              "14                           Akamai   AKAM    0.00000\n",
              "15                 Alaska Air Group    ALK    0.00000\n",
              "16            Albemarle Corporation    ALB    0.06869\n",
              "17  Alexandria Real Estate Equities    ARE    0.00000\n",
              "18                 Align Technology   ALGN    0.05257\n",
              "19                         Allegion   ALLE    0.00000\n",
              "20                   Alliant Energy    LNT    0.01728\n",
              "21                         Allstate    ALL    0.00000\n",
              "22          Alphabet Inc. (Class A)  GOOGL    0.00000\n",
              "23          Alphabet Inc. (Class C)   GOOG    0.01087\n",
              "24                           Altria     MO    0.00000"
            ],
            "text/html": [
              "\n",
              "  <div id=\"df-d0fceacf-ff5d-4a06-a230-f8f4dab7ceb8\">\n",
              "    <div class=\"colab-df-container\">\n",
              "      <div>\n",
              "<style scoped>\n",
              "    .dataframe tbody tr th:only-of-type {\n",
              "        vertical-align: middle;\n",
              "    }\n",
              "\n",
              "    .dataframe tbody tr th {\n",
              "        vertical-align: top;\n",
              "    }\n",
              "\n",
              "    .dataframe thead th {\n",
              "        text-align: right;\n",
              "    }\n",
              "</style>\n",
              "<table border=\"1\" class=\"dataframe\">\n",
              "  <thead>\n",
              "    <tr style=\"text-align: right;\">\n",
              "      <th></th>\n",
              "      <th>Name</th>\n",
              "      <th>Symbol</th>\n",
              "      <th>weightage</th>\n",
              "    </tr>\n",
              "  </thead>\n",
              "  <tbody>\n",
              "    <tr>\n",
              "      <th>0</th>\n",
              "      <td>3M</td>\n",
              "      <td>MMM</td>\n",
              "      <td>0.00000</td>\n",
              "    </tr>\n",
              "    <tr>\n",
              "      <th>1</th>\n",
              "      <td>A. O. Smith</td>\n",
              "      <td>AOS</td>\n",
              "      <td>0.00000</td>\n",
              "    </tr>\n",
              "    <tr>\n",
              "      <th>2</th>\n",
              "      <td>Abbott</td>\n",
              "      <td>ABT</td>\n",
              "      <td>0.00000</td>\n",
              "    </tr>\n",
              "    <tr>\n",
              "      <th>3</th>\n",
              "      <td>AbbVie</td>\n",
              "      <td>ABBV</td>\n",
              "      <td>0.23073</td>\n",
              "    </tr>\n",
              "    <tr>\n",
              "      <th>4</th>\n",
              "      <td>Accenture</td>\n",
              "      <td>ACN</td>\n",
              "      <td>0.05896</td>\n",
              "    </tr>\n",
              "    <tr>\n",
              "      <th>5</th>\n",
              "      <td>Activision Blizzard</td>\n",
              "      <td>ATVI</td>\n",
              "      <td>0.22768</td>\n",
              "    </tr>\n",
              "    <tr>\n",
              "      <th>6</th>\n",
              "      <td>ADM</td>\n",
              "      <td>ADM</td>\n",
              "      <td>0.00000</td>\n",
              "    </tr>\n",
              "    <tr>\n",
              "      <th>7</th>\n",
              "      <td>Adobe Inc.</td>\n",
              "      <td>ADBE</td>\n",
              "      <td>0.11450</td>\n",
              "    </tr>\n",
              "    <tr>\n",
              "      <th>8</th>\n",
              "      <td>ADP</td>\n",
              "      <td>ADP</td>\n",
              "      <td>0.05846</td>\n",
              "    </tr>\n",
              "    <tr>\n",
              "      <th>9</th>\n",
              "      <td>Advance Auto Parts</td>\n",
              "      <td>AAP</td>\n",
              "      <td>0.00000</td>\n",
              "    </tr>\n",
              "    <tr>\n",
              "      <th>10</th>\n",
              "      <td>AES Corporation</td>\n",
              "      <td>AES</td>\n",
              "      <td>0.00000</td>\n",
              "    </tr>\n",
              "    <tr>\n",
              "      <th>11</th>\n",
              "      <td>Aflac</td>\n",
              "      <td>AFL</td>\n",
              "      <td>0.02857</td>\n",
              "    </tr>\n",
              "    <tr>\n",
              "      <th>12</th>\n",
              "      <td>Agilent Technologies</td>\n",
              "      <td>A</td>\n",
              "      <td>0.13167</td>\n",
              "    </tr>\n",
              "    <tr>\n",
              "      <th>13</th>\n",
              "      <td>Air Products and Chemicals</td>\n",
              "      <td>APD</td>\n",
              "      <td>0.00000</td>\n",
              "    </tr>\n",
              "    <tr>\n",
              "      <th>14</th>\n",
              "      <td>Akamai</td>\n",
              "      <td>AKAM</td>\n",
              "      <td>0.00000</td>\n",
              "    </tr>\n",
              "    <tr>\n",
              "      <th>15</th>\n",
              "      <td>Alaska Air Group</td>\n",
              "      <td>ALK</td>\n",
              "      <td>0.00000</td>\n",
              "    </tr>\n",
              "    <tr>\n",
              "      <th>16</th>\n",
              "      <td>Albemarle Corporation</td>\n",
              "      <td>ALB</td>\n",
              "      <td>0.06869</td>\n",
              "    </tr>\n",
              "    <tr>\n",
              "      <th>17</th>\n",
              "      <td>Alexandria Real Estate Equities</td>\n",
              "      <td>ARE</td>\n",
              "      <td>0.00000</td>\n",
              "    </tr>\n",
              "    <tr>\n",
              "      <th>18</th>\n",
              "      <td>Align Technology</td>\n",
              "      <td>ALGN</td>\n",
              "      <td>0.05257</td>\n",
              "    </tr>\n",
              "    <tr>\n",
              "      <th>19</th>\n",
              "      <td>Allegion</td>\n",
              "      <td>ALLE</td>\n",
              "      <td>0.00000</td>\n",
              "    </tr>\n",
              "    <tr>\n",
              "      <th>20</th>\n",
              "      <td>Alliant Energy</td>\n",
              "      <td>LNT</td>\n",
              "      <td>0.01728</td>\n",
              "    </tr>\n",
              "    <tr>\n",
              "      <th>21</th>\n",
              "      <td>Allstate</td>\n",
              "      <td>ALL</td>\n",
              "      <td>0.00000</td>\n",
              "    </tr>\n",
              "    <tr>\n",
              "      <th>22</th>\n",
              "      <td>Alphabet Inc. (Class A)</td>\n",
              "      <td>GOOGL</td>\n",
              "      <td>0.00000</td>\n",
              "    </tr>\n",
              "    <tr>\n",
              "      <th>23</th>\n",
              "      <td>Alphabet Inc. (Class C)</td>\n",
              "      <td>GOOG</td>\n",
              "      <td>0.01087</td>\n",
              "    </tr>\n",
              "    <tr>\n",
              "      <th>24</th>\n",
              "      <td>Altria</td>\n",
              "      <td>MO</td>\n",
              "      <td>0.00000</td>\n",
              "    </tr>\n",
              "  </tbody>\n",
              "</table>\n",
              "</div>\n",
              "      <button class=\"colab-df-convert\" onclick=\"convertToInteractive('df-d0fceacf-ff5d-4a06-a230-f8f4dab7ceb8')\"\n",
              "              title=\"Convert this dataframe to an interactive table.\"\n",
              "              style=\"display:none;\">\n",
              "        \n",
              "  <svg xmlns=\"http://www.w3.org/2000/svg\" height=\"24px\"viewBox=\"0 0 24 24\"\n",
              "       width=\"24px\">\n",
              "    <path d=\"M0 0h24v24H0V0z\" fill=\"none\"/>\n",
              "    <path d=\"M18.56 5.44l.94 2.06.94-2.06 2.06-.94-2.06-.94-.94-2.06-.94 2.06-2.06.94zm-11 1L8.5 8.5l.94-2.06 2.06-.94-2.06-.94L8.5 2.5l-.94 2.06-2.06.94zm10 10l.94 2.06.94-2.06 2.06-.94-2.06-.94-.94-2.06-.94 2.06-2.06.94z\"/><path d=\"M17.41 7.96l-1.37-1.37c-.4-.4-.92-.59-1.43-.59-.52 0-1.04.2-1.43.59L10.3 9.45l-7.72 7.72c-.78.78-.78 2.05 0 2.83L4 21.41c.39.39.9.59 1.41.59.51 0 1.02-.2 1.41-.59l7.78-7.78 2.81-2.81c.8-.78.8-2.07 0-2.86zM5.41 20L4 18.59l7.72-7.72 1.47 1.35L5.41 20z\"/>\n",
              "  </svg>\n",
              "      </button>\n",
              "      \n",
              "  <style>\n",
              "    .colab-df-container {\n",
              "      display:flex;\n",
              "      flex-wrap:wrap;\n",
              "      gap: 12px;\n",
              "    }\n",
              "\n",
              "    .colab-df-convert {\n",
              "      background-color: #E8F0FE;\n",
              "      border: none;\n",
              "      border-radius: 50%;\n",
              "      cursor: pointer;\n",
              "      display: none;\n",
              "      fill: #1967D2;\n",
              "      height: 32px;\n",
              "      padding: 0 0 0 0;\n",
              "      width: 32px;\n",
              "    }\n",
              "\n",
              "    .colab-df-convert:hover {\n",
              "      background-color: #E2EBFA;\n",
              "      box-shadow: 0px 1px 2px rgba(60, 64, 67, 0.3), 0px 1px 3px 1px rgba(60, 64, 67, 0.15);\n",
              "      fill: #174EA6;\n",
              "    }\n",
              "\n",
              "    [theme=dark] .colab-df-convert {\n",
              "      background-color: #3B4455;\n",
              "      fill: #D2E3FC;\n",
              "    }\n",
              "\n",
              "    [theme=dark] .colab-df-convert:hover {\n",
              "      background-color: #434B5C;\n",
              "      box-shadow: 0px 1px 3px 1px rgba(0, 0, 0, 0.15);\n",
              "      filter: drop-shadow(0px 1px 2px rgba(0, 0, 0, 0.3));\n",
              "      fill: #FFFFFF;\n",
              "    }\n",
              "  </style>\n",
              "\n",
              "      <script>\n",
              "        const buttonEl =\n",
              "          document.querySelector('#df-d0fceacf-ff5d-4a06-a230-f8f4dab7ceb8 button.colab-df-convert');\n",
              "        buttonEl.style.display =\n",
              "          google.colab.kernel.accessAllowed ? 'block' : 'none';\n",
              "\n",
              "        async function convertToInteractive(key) {\n",
              "          const element = document.querySelector('#df-d0fceacf-ff5d-4a06-a230-f8f4dab7ceb8');\n",
              "          const dataTable =\n",
              "            await google.colab.kernel.invokeFunction('convertToInteractive',\n",
              "                                                     [key], {});\n",
              "          if (!dataTable) return;\n",
              "\n",
              "          const docLinkHtml = 'Like what you see? Visit the ' +\n",
              "            '<a target=\"_blank\" href=https://colab.research.google.com/notebooks/data_table.ipynb>data table notebook</a>'\n",
              "            + ' to learn more about interactive tables.';\n",
              "          element.innerHTML = '';\n",
              "          dataTable['output_type'] = 'display_data';\n",
              "          await google.colab.output.renderOutput(dataTable, element);\n",
              "          const docLink = document.createElement('div');\n",
              "          docLink.innerHTML = docLinkHtml;\n",
              "          element.appendChild(docLink);\n",
              "        }\n",
              "      </script>\n",
              "    </div>\n",
              "  </div>\n",
              "  "
            ]
          },
          "metadata": {},
          "execution_count": 197
        }
      ]
    },
    {
      "cell_type": "code",
      "source": [],
      "metadata": {
        "id": "8OsyVS4PNx5l"
      },
      "execution_count": null,
      "outputs": []
    }
  ]
}